{
 "cells": [
  {
   "cell_type": "code",
   "execution_count": 1,
   "id": "8b75c2ab",
   "metadata": {},
   "outputs": [
    {
     "name": "stdout",
     "output_type": "stream",
     "text": [
      "ok\n"
     ]
    }
   ],
   "source": [
    "print(\"ok\")"
   ]
  },
  {
   "cell_type": "code",
   "execution_count": 2,
   "id": "3f8d67f8",
   "metadata": {},
   "outputs": [
    {
     "data": {
      "text/plain": [
       "'/Users/deepak.panwar/ai-personal-projects/ai-health-assistant-langchain/research'"
      ]
     },
     "execution_count": 2,
     "metadata": {},
     "output_type": "execute_result"
    }
   ],
   "source": [
    "%pwd"
   ]
  },
  {
   "cell_type": "code",
   "execution_count": 3,
   "id": "a4df8ea5",
   "metadata": {},
   "outputs": [
    {
     "data": {
      "text/plain": [
       "'/Users/deepak.panwar/ai-personal-projects/ai-health-assistant-langchain'"
      ]
     },
     "execution_count": 3,
     "metadata": {},
     "output_type": "execute_result"
    }
   ],
   "source": [
    "import os\n",
    "os.chdir(\"../\")\n",
    "%pwd"
   ]
  },
  {
   "cell_type": "code",
   "execution_count": 4,
   "id": "75a69583",
   "metadata": {},
   "outputs": [],
   "source": [
    "from langchain.document_loaders import PyPDFLoader, DirectoryLoader\n",
    "from langchain.text_splitter import RecursiveCharacterTextSplitter"
   ]
  },
  {
   "cell_type": "code",
   "execution_count": 5,
   "id": "4d71e561",
   "metadata": {},
   "outputs": [],
   "source": [
    "# Extract text from PDF files\n",
    "def load_pdf_files(data):\n",
    "    loader = DirectoryLoader(\n",
    "        data,\n",
    "        glob=\"*.pdf\",\n",
    "        loader_cls=PyPDFLoader\n",
    "    )\n",
    "\n",
    "    documents = loader.load()\n",
    "    return documents"
   ]
  },
  {
   "cell_type": "code",
   "execution_count": 6,
   "id": "39b5baf1",
   "metadata": {},
   "outputs": [],
   "source": [
    "extracted_data = load_pdf_files(\"data\")"
   ]
  },
  {
   "cell_type": "code",
   "execution_count": 7,
   "id": "2e0da0ba",
   "metadata": {},
   "outputs": [],
   "source": [
    "from typing import List\n",
    "from langchain.schema import Document\n",
    "\n",
    "def filter_extracted_data(docs: List[Document]) -> List[Document]:\n",
    "    \"\"\"\n",
    "    Given a list of Document objects, return a new list of Document objects\n",
    "    containing only 'source' in metadata and the original page_content.\n",
    "    \"\"\"\n",
    "    filtered_extracted_data: List[Document] = []\n",
    "    for doc in docs:\n",
    "        src = doc.metadata.get(\"source\")\n",
    "        filtered_extracted_data.append(\n",
    "            Document(\n",
    "                page_content=doc.page_content,\n",
    "                metadata={\"source\": src}\n",
    "            )\n",
    "        )\n",
    "    return filtered_extracted_data"
   ]
  },
  {
   "cell_type": "code",
   "execution_count": 8,
   "id": "f404bbad",
   "metadata": {},
   "outputs": [],
   "source": [
    "filtered_extracted_data = filter_extracted_data(extracted_data)"
   ]
  },
  {
   "cell_type": "code",
   "execution_count": 9,
   "id": "db754299",
   "metadata": {},
   "outputs": [],
   "source": [
    "# Split the documents into smaller chunks\n",
    "def text_to_chunks(filtered_extracted_data):\n",
    "    text_splitter = RecursiveCharacterTextSplitter(\n",
    "        chunk_size=500,\n",
    "        chunk_overlap=20,\n",
    "    )\n",
    "    chunks = text_splitter.split_documents(filtered_extracted_data)\n",
    "    return chunks"
   ]
  },
  {
   "cell_type": "code",
   "execution_count": 10,
   "id": "42e53657",
   "metadata": {},
   "outputs": [
    {
     "name": "stdout",
     "output_type": "stream",
     "text": [
      "Number of chunks: 5859\n"
     ]
    }
   ],
   "source": [
    "text_chunks = text_to_chunks(filtered_extracted_data)\n",
    "print(f\"Number of chunks: {len(text_chunks)}\")"
   ]
  },
  {
   "cell_type": "code",
   "execution_count": 11,
   "id": "04189851",
   "metadata": {},
   "outputs": [
    {
     "name": "stderr",
     "output_type": "stream",
     "text": [
      "/var/folders/z2/j2fx7fbx1xx32nh3b96rk8cr0000gn/T/ipykernel_6303/2569784133.py:8: LangChainDeprecationWarning: The class `HuggingFaceEmbeddings` was deprecated in LangChain 0.2.2 and will be removed in 1.0. An updated version of the class exists in the :class:`~langchain-huggingface package and should be used instead. To use it run `pip install -U :class:`~langchain-huggingface` and import as `from :class:`~langchain_huggingface import HuggingFaceEmbeddings``.\n",
      "  embeddings = HuggingFaceEmbeddings(\n",
      "/opt/anaconda3/envs/medibot-env/lib/python3.13/site-packages/tqdm/auto.py:21: TqdmWarning: IProgress not found. Please update jupyter and ipywidgets. See https://ipywidgets.readthedocs.io/en/stable/user_install.html\n",
      "  from .autonotebook import tqdm as notebook_tqdm\n"
     ]
    }
   ],
   "source": [
    "from langchain.embeddings import HuggingFaceEmbeddings\n",
    "\n",
    "def download_embedding_model():\n",
    "    \"\"\"\n",
    "    Download and return the HuggingFace embeddings model.\n",
    "    \"\"\"\n",
    "    model_name = \"sentence-transformers/all-MiniLM-L6-v2\"\n",
    "    embeddings = HuggingFaceEmbeddings(\n",
    "        model_name=model_name\n",
    "    )\n",
    "    return embeddings\n",
    "\n",
    "embedding_model = download_embedding_model()"
   ]
  },
  {
   "cell_type": "code",
   "execution_count": 12,
   "id": "e4129d59",
   "metadata": {},
   "outputs": [
    {
     "data": {
      "text/plain": [
       "True"
      ]
     },
     "execution_count": 12,
     "metadata": {},
     "output_type": "execute_result"
    }
   ],
   "source": [
    "from dotenv import load_dotenv\n",
    "import os\n",
    "load_dotenv()"
   ]
  },
  {
   "cell_type": "code",
   "execution_count": 13,
   "id": "d789e823",
   "metadata": {},
   "outputs": [],
   "source": [
    "PINECONE_API_KEY = os.getenv(\"PINECONE_API_KEY\")\n",
    "OPENAI_API_KEY = os.getenv(\"OPENAI_API_KEY\")\n",
    "\n",
    "\n",
    "os.environ[\"PINECONE_API_KEY\"] = PINECONE_API_KEY\n",
    "os.environ[\"OPENAI_API_KEY\"] = OPENAI_API_KEY"
   ]
  },
  {
   "cell_type": "code",
   "execution_count": 14,
   "id": "2f920d30",
   "metadata": {},
   "outputs": [],
   "source": [
    "from pinecone import Pinecone\n",
    "\n",
    "pc = Pinecone(api_key=PINECONE_API_KEY)"
   ]
  },
  {
   "cell_type": "markdown",
   "id": "56081bbb",
   "metadata": {},
   "source": []
  },
  {
   "cell_type": "code",
   "execution_count": 15,
   "id": "0e129cb3",
   "metadata": {},
   "outputs": [],
   "source": [
    "from pinecone import ServerlessSpec\n",
    "\n",
    "index_name = \"ai-health-assistant-langchain\"\n",
    "\n",
    "if not pc.has_index(index_name):\n",
    "    pc.create_index(\n",
    "        name = index_name,\n",
    "        dimension=384,  # Dimension of the embeddings\n",
    "        metric= \"cosine\",  # Cosine similarity\n",
    "        spec=ServerlessSpec(cloud=\"aws\", region=\"us-east-1\")\n",
    "    )\n",
    "\n",
    "\n",
    "index = pc.Index(index_name)"
   ]
  },
  {
   "cell_type": "code",
   "execution_count": 19,
   "id": "99bcbb4b",
   "metadata": {},
   "outputs": [],
   "source": [
    "from langchain_pinecone import PineconeVectorStore\n",
    "\n",
    "docsearch = PineconeVectorStore.from_documents(\n",
    "    documents=text_chunks,\n",
    "    embedding=embedding_model,\n",
    "    index_name=index_name\n",
    ")"
   ]
  },
  {
   "cell_type": "code",
   "execution_count": null,
   "id": "0601c9ec",
   "metadata": {},
   "outputs": [],
   "source": [
    "# Load Existing index\n",
    "\n",
    "from langchain_pinecone import PineconeVectorStore\n",
    "# Embed each chunk and upsert the embeddings into your Pinecone index.\n",
    "docsearch = PineconeVectorStore.from_existing_index(\n",
    "    index_name=index_name,\n",
    "    embedding=embedding_model\n",
    ")"
   ]
  },
  {
   "cell_type": "code",
   "execution_count": 24,
   "id": "431be73e",
   "metadata": {},
   "outputs": [],
   "source": [
    "retriever = docsearch.as_retriever(search_type=\"similarity\", search_kwargs={\"k\":6})"
   ]
  },
  {
   "cell_type": "code",
   "execution_count": 25,
   "id": "75c4385d",
   "metadata": {},
   "outputs": [],
   "source": [
    "retrieved_docs = retriever.invoke(\"What is Arthritis?\")"
   ]
  },
  {
   "cell_type": "code",
   "execution_count": 26,
   "id": "b7e0f999",
   "metadata": {},
   "outputs": [
    {
     "data": {
      "text/plain": [
       "[Document(id='eb334360-8604-4bce-b85e-c6f22ef4dab4', metadata={'source': 'data/Medical_book.pdf'}, page_content='of the joints in the spine. AS is also known as rheumatoid\\nspondylitis or Marie-Strümpell disease (among other\\nnames).\\nDescription\\nA form of arthritis, AS is characterized by chronic\\ninflammation, causing pain and stiffness of the back,\\nGALE ENCYCLOPEDIA OF MEDICINE 2208\\nAnkylosing spondylitis\\nGEM - 0001 to 0432 - A  10/22/03 1:42 PM  Page 208'),\n",
       " Document(id='d109069a-acd4-47ce-a377-7b5fd9447e13', metadata={'source': 'data/Medical_book.pdf'}, page_content='Swezey, Robert L. Straight Talk on Spondylitis.Spondylitis\\nAssociation of America, 1994.\\nTaurog, Joel D., and Peter E. Lipsky. “Ankylosing Spondylitis,\\nReactive Arthritis, and Undifferentiated Spondy-\\nloarthropathy.” In Harrison’s Principles of Internal Medi-\\ncine, ed. Anthony S. Fauci, et al. New York: McGraw-Hill,\\n1997.\\nORGANIZATIONS\\nArthritis Foundation.1300 W. Peachtree St., Atlanta, GA\\n30309. (800) 283-7800. <http://www.arthritis.org>.\\nGALE ENCYCLOPEDIA OF MEDICINE 2 209'),\n",
       " Document(id='d0ff655f-ca1c-4f30-a69b-979c0cae3d67', metadata={'source': 'data/Medical_book.pdf'}, page_content='tions. Other therapies that deal effectively with muscu-\\nloskeletal problems (relating to the muscles and skele-\\nton), may also be helpful, such as body work, magnetic\\nfield therapy , naturopathic medicine , chiropractic ,\\nand applied kinesiology.\\nKEY TERMS\\nArthritis—Inflammation of a joint that may lead to\\nchanges in the joint’s structure. It causes pain and\\nswelling. Rheumatoid arthritis is a chronic disease\\nthat leads to crippling deformities.\\nDiabetes mellitus —A metabolic disease caused'),\n",
       " Document(id='3ee83bcb-488d-41d8-b39f-a25a687eee31', metadata={'source': 'data/Medical_book.pdf'}, page_content='that has devastating effects on joints and general health. It\\nis classified as an auto-immune disease, because the dis-\\nease is caused by the body’s own immune system acting\\nagainst the body itself. Symptoms include painful, stiff,\\nswollen joints, fever, fatigue, and loss of appetite.\\nIn recent years, there has been a change in attitude\\nconcerning the treatment of rheumatoid arthritis. Physi-\\ncians now use Disease Modifying Anti-Rheumatic Drugs'),\n",
       " Document(id='eb321ec2-8aa7-4136-a6df-ec2baa3a693c', metadata={'source': 'data/Medical_book.pdf'}, page_content='and some may also develop urinary problems. Lupus\\ncan also effect the central nervous system, causing\\nseizures, depression, and psychosis.\\n• Rheumatoid arthritis. Initially may be characterized by a\\nlow-grade fever, loss of appetite, weight loss, and a gener-\\nalized pain in the joints. The joint pain then becomes\\nmore specific, usually beginning in the fingers, then\\nspreading to other areas, such as the wrists, elbows,\\nknees, and ankles. As the disease progresses, joint func-'),\n",
       " Document(id='a2b90661-6a8a-4a5a-a1af-5d500c1175f4', metadata={'source': 'data/Medical_book.pdf'}, page_content='all ages. This procedure is most commonly used to diagnose\\nknee and shoulder problems, although the elbow, hip, wrist,\\nand ankle may also be examined with an arthroscope.\\nA joint is a complex system. Within a joint, ligaments\\nattach bones to other bones, tendons attach muscles to\\nbones, cartilage lines and helps protect the ends of bones,\\nand a special fluid (synovial fluid) cushions and lubricates\\nthe structures. Looking inside the joint allows the doctors')]"
      ]
     },
     "execution_count": 26,
     "metadata": {},
     "output_type": "execute_result"
    }
   ],
   "source": [
    "retrieved_docs"
   ]
  },
  {
   "cell_type": "code",
   "execution_count": 27,
   "id": "4ac697e4",
   "metadata": {},
   "outputs": [],
   "source": [
    "from langchain_openai import ChatOpenAI\n",
    "\n",
    "chatModel = ChatOpenAI(model=\"gpt-4o\")"
   ]
  },
  {
   "cell_type": "code",
   "execution_count": 28,
   "id": "6746ff55",
   "metadata": {},
   "outputs": [],
   "source": [
    "from langchain.chains import create_retrieval_chain\n",
    "from langchain.chains.combine_documents import create_stuff_documents_chain\n",
    "from langchain_core.prompts import ChatPromptTemplate"
   ]
  },
  {
   "cell_type": "code",
   "execution_count": 30,
   "id": "78520bab",
   "metadata": {},
   "outputs": [],
   "source": [
    "system_prompt = (\n",
    "    \"You are an Medical assistant for question-answering tasks. \"\n",
    "    \"Use the following pieces of retrieved context to answer \"\n",
    "    \"the question. If you don't know the answer, say that you \"\n",
    "    \"don't know. Use three sentences maximum and keep the \"\n",
    "    \"answer concise.\"\n",
    "    \"\\n\\n\"\n",
    "    \"{context}\"\n",
    ")\n"
   ]
  },
  {
   "cell_type": "code",
   "execution_count": 31,
   "id": "6112b6c7",
   "metadata": {},
   "outputs": [],
   "source": [
    "prompt = ChatPromptTemplate.from_messages(\n",
    "    [\n",
    "        (\"system\", system_prompt),\n",
    "        (\"human\", \"{input}\"),\n",
    "    ]\n",
    ")"
   ]
  },
  {
   "cell_type": "code",
   "execution_count": 32,
   "id": "d4797f8c",
   "metadata": {},
   "outputs": [],
   "source": [
    "question_answer_chain = create_stuff_documents_chain(chatModel, prompt)\n",
    "rag_chain = create_retrieval_chain(retriever, question_answer_chain)"
   ]
  },
  {
   "cell_type": "code",
   "execution_count": 33,
   "id": "105895f6",
   "metadata": {},
   "outputs": [
    {
     "name": "stdout",
     "output_type": "stream",
     "text": [
      "Arthritis is the inflammation of a joint that may lead to changes in the joint's structure, causing pain and swelling. It includes various types, such as rheumatoid arthritis, which is a chronic auto-immune disease leading to painful, stiff, and swollen joints. Rheumatoid arthritis can also result in crippling deformities and affect general health.\n"
     ]
    }
   ],
   "source": [
    "response = rag_chain.invoke({\"input\": \"what is Arthritis?\"})\n",
    "print(response[\"answer\"])"
   ]
  },
  {
   "cell_type": "code",
   "execution_count": 34,
   "id": "d52c70e8",
   "metadata": {},
   "outputs": [
    {
     "name": "stdout",
     "output_type": "stream",
     "text": [
      "To treat arthritis, start by managing pain and inflammation with nonsteroidal anti-inflammatory drugs (NSAIDs) like aspirin, ibuprofen, or naproxen. Consider alternative treatments such as acupuncture or herbal remedies like white willow and yarrow to reduce inflammation. For those with joint deformity, physical therapy or, in severe cases, surgery may be considered to improve function and quality of life.\n"
     ]
    }
   ],
   "source": [
    "response = rag_chain.invoke({\"input\": \"How to treat Arthritis?\"})\n",
    "print(response[\"answer\"])"
   ]
  },
  {
   "cell_type": "code",
   "execution_count": 35,
   "id": "00947357",
   "metadata": {},
   "outputs": [
    {
     "name": "stdout",
     "output_type": "stream",
     "text": [
      "There is no definitive way to prevent arthritis, especially since its development can depend on various genetic and environmental factors. However, maintaining a healthy weight, engaging in regular physical activity, and avoiding joint injuries may help reduce the risk. Additionally, managing underlying health conditions that can contribute to arthritis, such as diabetes, is beneficial.\n"
     ]
    }
   ],
   "source": [
    "response = rag_chain.invoke({\"input\": \"How to prevent Arthritis?\"})\n",
    "print(response[\"answer\"])"
   ]
  }
 ],
 "metadata": {
  "kernelspec": {
   "display_name": "medibot-env",
   "language": "python",
   "name": "python3"
  },
  "language_info": {
   "codemirror_mode": {
    "name": "ipython",
    "version": 3
   },
   "file_extension": ".py",
   "mimetype": "text/x-python",
   "name": "python",
   "nbconvert_exporter": "python",
   "pygments_lexer": "ipython3",
   "version": "3.13.5"
  }
 },
 "nbformat": 4,
 "nbformat_minor": 5
}
